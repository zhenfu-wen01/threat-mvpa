{
 "cells": [
  {
   "cell_type": "code",
   "execution_count": 16,
   "id": "b2e396e6-53be-4c61-8af8-702a5147fe64",
   "metadata": {
    "tags": []
   },
   "outputs": [],
   "source": [
    "import numpy as np\n",
    "import pandas as pd\n",
    "import os\n",
    "import mvpa_base_functions as bf\n",
    "import pickle\n",
    "\n",
    "from sklearn.model_selection import GroupKFold\n",
    "from sklearn.pipeline import Pipeline\n",
    "from sklearn.preprocessing import StandardScaler\n",
    "from sklearn.model_selection import GridSearchCV\n",
    "from sklearn.linear_model import LogisticRegression"
   ]
  },
  {
   "cell_type": "code",
   "execution_count": 17,
   "id": "259e8302-3f88-423c-aac3-05e2db876a18",
   "metadata": {},
   "outputs": [],
   "source": [
    "phase = 'cond'\n",
    "mask = 'fearnet'\n",
    "trial_block = 1"
   ]
  },
  {
   "cell_type": "code",
   "execution_count": 18,
   "id": "389ffb61-4fba-4969-ac48-5871e7ad2fdf",
   "metadata": {
    "tags": []
   },
   "outputs": [],
   "source": [
    "# load discovery dataset, and use it for classifier training\n",
    "D = pickle.load(open(f'./sample_data/discovery_{phase}_{mask}_{trial_block}block.pkl', 'rb'))\n",
    "csm_data = D['csm_data']\n",
    "csp_data = D['csp_data']\n",
    "\n",
    "subj_num, feat_num = csm_data.shape\n",
    "X = np.concatenate((csm_data, csp_data), axis=0)\n",
    "Y = np.concatenate((0*np.ones(subj_num),1*np.ones(subj_num)), axis=0)\n",
    "group = np.concatenate((np.arange(subj_num),np.arange(subj_num)), axis=0)\n",
    "\n",
    "param_num = 10\n",
    "param_list = np.logspace(-4, 4, num=param_num, base=10)\n",
    "LR = LogisticRegression(C=1, solver='liblinear')\n",
    "dclf = Pipeline([('scaler', StandardScaler()), ('clf', LR)])\n",
    "param_grid = {'clf__C':param_list}\n"
   ]
  },
  {
   "cell_type": "code",
   "execution_count": 19,
   "id": "79996186-b2c3-4c2e-a72b-e1e2f9710b89",
   "metadata": {},
   "outputs": [],
   "source": [
    "## option 1, train the classifier based on the sample discovery dataset\n",
    "clf = GridSearchCV(dclf, param_grid, n_jobs=10)\n",
    "clf.fit(X, Y);\n",
    "\n",
    "## option 2, load the trained classifier based on the whole discovery dataset\n",
    "# if mask=='fearnet':\n",
    "#     file = f'./models/{phase}_threat_circuit_model.pkl'\n",
    "# elif mask=='wholebrain':\n",
    "#     file = f'{phase}_whole_brain_model.pkl'\n",
    "# D = pickle.load(open(file, 'rb'))\n",
    "# all_clf = D['all_clf']\n",
    "# clf = all_clf[trial_block-1]"
   ]
  },
  {
   "cell_type": "code",
   "execution_count": 20,
   "id": "ef762260-ca70-4da3-bc38-7eb722112947",
   "metadata": {},
   "outputs": [],
   "source": [
    "# load validation dataset, and apply the trained classifier to it\n",
    "valid_file = f'./sample_data/validation1_{phase}_{mask}_{trial_block}block.pkl'\n",
    "svfile = f'./sample_results/validation1_{phase}_{mask}_{trial_block}block_accuracy.pkl' # file to save the results\n",
    "D = pickle.load(open(valid_file, 'rb'))\n",
    "val_csm_data = D['csm_data']\n",
    "val_csp_data = D['csp_data']\n",
    "val_subj_num = csm_data.shape[0]\n",
    "val_X = np.concatenate((val_csm_data, val_csp_data), axis=0)\n",
    "val_Y = np.concatenate((0*np.ones(val_subj_num),1*np.ones(val_subj_num)), axis=0)\n",
    "\n",
    "val_prob_pred = clf.predict_proba(val_X)\n",
    "val_accuracy, val_acc_vec = bf.force_binary_accuracy(val_Y, val_prob_pred[:,1])"
   ]
  },
  {
   "cell_type": "code",
   "execution_count": 21,
   "id": "2735670f-5c66-454f-b2bd-5c6fd74d64be",
   "metadata": {
    "tags": []
   },
   "outputs": [],
   "source": [
    "# permutation, this is time consuming\n",
    "perm_num = 10 # increase this value to at least 1000 for real analysis\n",
    "val_accuracy_permutation = np.zeros(perm_num)\n",
    "for iperm in range(perm_num):\n",
    "    rY = bf.permute_Y(Y)\n",
    "    rclf = GridSearchCV(dclf, param_grid, n_jobs=10)\n",
    "    rclf.fit(X, rY);\n",
    "    \n",
    "    rprob_pred = rclf.predict_proba(val_X)\n",
    "    racc, _ = bf.force_binary_accuracy(val_Y, rprob_pred[:,1])\n",
    "    val_accuracy_permutation[iperm] = racc"
   ]
  },
  {
   "cell_type": "code",
   "execution_count": 24,
   "id": "11139638-f8c6-46a2-bccb-b55f92e73e43",
   "metadata": {
    "tags": []
   },
   "outputs": [],
   "source": [
    "# save these variables for plotting\n",
    "mvals = np.mean(val_acc_vec)\n",
    "evals = np.std(val_acc_vec)/np.sqrt(val_acc_vec.shape[0])\n",
    "chance_vals = np.percentile(val_accuracy_permutation, 97.5, axis=0)\n",
    "pickle.dump({'chance_vals':chance_vals,\n",
    "             'mvals':mvals,\n",
    "             'evals':evals},\n",
    "              open(svfile, 'wb'))"
   ]
  },
  {
   "cell_type": "code",
   "execution_count": null,
   "id": "ed0a7541-b439-44cc-af2b-0264e0065b1c",
   "metadata": {},
   "outputs": [],
   "source": [
    "## gather results from all phases and trial-blocks\n",
    "## run this cell after get results from each phase and trial-block\n",
    "## i.e., when all files f'./sample_results/validation1_{phase}_{mask}_{trial_block}block_accuracy.pkl' are ready\n",
    "\n",
    "# mask = 'fearnet' # feature to be used, 'fearnet' or 'wholebrain'\n",
    "# all_chance_vals = []\n",
    "# all_mvals = []\n",
    "# all_evals = []\n",
    "# for cphs in ['cond', 'ext', 'recall']:\n",
    "#     for tblk in [1,2,3,4]:\n",
    "#         file = f'./sample_results/validation1_{phase}_{mask}_{trial_block}block_accuracy.pkl'\n",
    "#         D = pickle.load(open(file, 'rb'))\n",
    "#         chance_vals = D['chance_vals']\n",
    "#         mvals = D['mvals']\n",
    "#         evals = D['evals']\n",
    "#         all_mvals.append(mvals)\n",
    "#         all_evals.append(evals)\n",
    "#         all_chance_vals.append(chance_vals)\n",
    "# all_mvals = np.array(all_mvals)\n",
    "# all_evals = np.array(all_evals)\n",
    "# all_chance_vals = np.array(all_chance_vals)\n",
    "\n",
    "# if mask=='wholebrain':\n",
    "#     savefile = './results/whole_brain_external_validation_accuracy.pkl'\n",
    "# elif mask=='fearnet':\n",
    "#     savefile = './results/threat_circuit_external_validation_accuracy.pkl'\n",
    "# pickle.dump({'all_chance_vals':all_chance_vals,\n",
    "#              'all_mvals':all_mvals,\n",
    "#              'all_evals':all_evals},\n",
    "#              open(savefile, 'wb'))"
   ]
  }
 ],
 "metadata": {
  "kernelspec": {
   "display_name": "Python 3 (ipykernel)",
   "language": "python",
   "name": "python3"
  },
  "language_info": {
   "codemirror_mode": {
    "name": "ipython",
    "version": 3
   },
   "file_extension": ".py",
   "mimetype": "text/x-python",
   "name": "python",
   "nbconvert_exporter": "python",
   "pygments_lexer": "ipython3",
   "version": "3.11.3"
  }
 },
 "nbformat": 4,
 "nbformat_minor": 5
}
