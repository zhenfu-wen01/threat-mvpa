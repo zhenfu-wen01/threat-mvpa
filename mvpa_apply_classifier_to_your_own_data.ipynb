{
 "cells": [
  {
   "cell_type": "code",
   "execution_count": 10,
   "id": "a9147996-6b4b-4f01-a67e-45d91594665a",
   "metadata": {},
   "outputs": [],
   "source": [
    "import numpy as np\n",
    "import pandas as pd\n",
    "import os\n",
    "import mvpa_base_functions as bf\n",
    "import pickle"
   ]
  },
  {
   "cell_type": "code",
   "execution_count": 11,
   "id": "4a5cfd27-f285-4ba3-8fe1-fbae9daa07cb",
   "metadata": {},
   "outputs": [],
   "source": [
    "phase = 'cond' # cond, ext, or recall; classifiers based on cond phase are recommended to use\n",
    "mask = 'extendnet'#fearnet, extendnet, or wholebrain; extendnet is recommended to use\n",
    "trial_block = 1 # TB1-TB4, there are 4 trial-block-level models on conditioning phase"
   ]
  },
  {
   "cell_type": "code",
   "execution_count": 12,
   "id": "7947dbb2-9ce7-4f2d-8120-487193b775c9",
   "metadata": {},
   "outputs": [],
   "source": [
    "## load the trained classifier based on the whole discovery dataset\n",
    "if mask=='fearnet':\n",
    "    file = f'./models/{phase}_threat_circuit_model.pkl'\n",
    "elif mask=='extendnet':\n",
    "    file = f'./models/{phase}_extend_circuit_model.pkl'\n",
    "elif mask=='wholebrain':\n",
    "    file = f'./models/{phase}_whole_brain_model.pkl'\n",
    "D = pickle.load(open(file, 'rb'))\n",
    "all_clf = D['all_clf']\n",
    "clf = all_clf[trial_block-1]"
   ]
  },
  {
   "cell_type": "code",
   "execution_count": null,
   "id": "9d9d549a-2f82-40ae-8333-3350adabc2da",
   "metadata": {},
   "outputs": [],
   "source": []
  },
  {
   "cell_type": "code",
   "execution_count": 17,
   "id": "7d920749-5a9f-4552-9b02-ca77b2cd8351",
   "metadata": {},
   "outputs": [],
   "source": [
    "# see mvpa_step00_extract_features.ipynb for details on how to extract features\n",
    "# based on corresponding masks\n",
    "\n",
    "subj_num, feat_num = 10, 26488\n",
    "test_X = np.random.rand(2*subj_num, feat_num)\n",
    "test_labels = np.concatenate((0*np.ones(subj_num),1*np.ones(subj_num)), axis=0)"
   ]
  },
  {
   "cell_type": "code",
   "execution_count": 18,
   "id": "aa0e4b16-f253-499e-a85d-2dc2eba8da5f",
   "metadata": {},
   "outputs": [],
   "source": [
    "test_prob_pred = clf.predict_proba(test_X) # predict probability\n",
    "# Note that to use the force_binary_accuracy, the test_X must be organized\n",
    "# such that the first half are class 0 (e.g., CS-), the second half are class 1 (e.g., CS+)\n",
    "test_accuracy, _ = bf.force_binary_accuracy(test_labels, test_prob_pred[:,1])\n",
    "\n",
    "# Use clf.predict if you only care about the predicted labels\n",
    "test_pred_labels = clf.predict(test_X)"
   ]
  }
 ],
 "metadata": {
  "kernelspec": {
   "display_name": "Python 3 (ipykernel)",
   "language": "python",
   "name": "python3"
  },
  "language_info": {
   "codemirror_mode": {
    "name": "ipython",
    "version": 3
   },
   "file_extension": ".py",
   "mimetype": "text/x-python",
   "name": "python",
   "nbconvert_exporter": "python",
   "pygments_lexer": "ipython3",
   "version": "3.11.5"
  }
 },
 "nbformat": 4,
 "nbformat_minor": 5
}
