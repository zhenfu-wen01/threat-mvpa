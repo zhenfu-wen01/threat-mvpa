{
 "cells": [
  {
   "cell_type": "code",
   "execution_count": 15,
   "id": "65b498bd-294d-4d29-89bf-eab1c5fe2578",
   "metadata": {
    "tags": []
   },
   "outputs": [],
   "source": [
    "import numpy as np\n",
    "import pandas as pd\n",
    "import os\n",
    "import glob\n",
    "import mvpa_base_functions as bf\n",
    "import pickle\n",
    "from nilearn.input_data import NiftiLabelsMasker, NiftiMapsMasker, NiftiMasker\n",
    "from nilearn.image import concat_imgs, load_img\n",
    "import nibabel as nib"
   ]
  },
  {
   "cell_type": "code",
   "execution_count": 16,
   "id": "c9edc1f9-2fe7-4ff8-86e2-c9d4dff041e6",
   "metadata": {
    "tags": []
   },
   "outputs": [],
   "source": [
    "mask = 'fearnet'\n",
    "phase = 'cond'\n",
    "trial_block = 1\n",
    "beta_folder = './sample_data/beta_files'# folder contains individual beta maps\n",
    "savefile = f'./sample_data/discovery_{phase}_{mask}_{trial_block}block.pkl'\n",
    "    \n",
    "brain_file = './masks/whole_brain_mask_Sch7net400_subcortex_cerebellum_MNI152NLin2009cAsym_res-2space.nii.gz'\n",
    "bimg = load_img(brain_file)\n",
    "bdata = bimg.get_fdata().copy()\n",
    "bdata[bdata>0] = 1\n",
    "brain_img = nib.Nifti1Image(bdata, bimg.affine)\n",
    "\n",
    "masker = NiftiMasker(brain_img, standardize=False)\n",
    "val = masker.fit_transform(brain_file)\n",
    "\n",
    "if mask=='fearnet':\n",
    "    fearnet_file = './masks/fearNet_10regions_MNI152NLin2009cAsym_res-2_space.nii.gz'\n",
    "    fear_img = load_img(fearnet_file)\n",
    "    voxel_reg_ids = masker.transform(fear_img).reshape(-1)\n",
    "    feature_index = voxel_reg_ids>0\n",
    "elif mask=='wholebrain':\n",
    "    fearnet_file = './masks/fearNet_10regions_dilute6mm_MNI152NLin2009cAsym_res-2_space.nii.gz'\n",
    "    fear_img = load_img(fearnet_file)\n",
    "    voxel_reg_ids = masker.transform(fear_img).reshape(-1)\n",
    "    feature_index = voxel_reg_ids == 0\n",
    "elif mask=='extendnet':\n",
    "    extendnet_file = './masks/extendNet_24regions_MNI152NLin2009cAsym_res-2_space.nii.gz'\n",
    "    extend_img = load_img(extendnet_file)\n",
    "    voxel_reg_ids = masker.transform(extend_img).reshape(-1)\n",
    "    \n",
    "    feature_index = voxel_reg_ids>0\n",
    "    \n",
    "    "
   ]
  },
  {
   "cell_type": "code",
   "execution_count": 17,
   "id": "921a1923-ac91-4bbb-b9aa-fadeef29eccc",
   "metadata": {},
   "outputs": [],
   "source": [
    "subj_dirs = glob.glob(os.path.join(beta_folder, phase, 'sub-*/'))\n",
    "subj_ids = [i.split('/')[-2] for i in subj_dirs]\n",
    "subj_ids.sort()"
   ]
  },
  {
   "cell_type": "code",
   "execution_count": 19,
   "id": "23d4a59f-7bc5-4547-b575-236962cf85c5",
   "metadata": {},
   "outputs": [],
   "source": [
    "csp_data = []\n",
    "csm_data = []\n",
    "for csubj, subj in enumerate(subj_ids):\n",
    "    bfile = os.path.join(beta_folder, phase, subj, f'con_CSp0{trial_block}.nii.gz')\n",
    "    csp_dt = masker.transform(bfile).reshape(-1)\n",
    "    csp_data.append(csp_dt[feature_index])\n",
    "    \n",
    "    bfile = os.path.join(beta_folder, phase, subj, f'con_CSm0{trial_block}.nii.gz')\n",
    "    csm_dt = masker.transform(bfile).reshape(-1)\n",
    "    csm_data.append(csm_dt[feature_index])\n",
    "csp_data = np.stack(csp_data)\n",
    "csm_data = np.stack(csm_data)\n",
    "\n",
    "pickle.dump({'csp_data':csp_data,\n",
    "             'csm_data':csm_data},\n",
    "             open(savefile, 'wb'))"
   ]
  }
 ],
 "metadata": {
  "kernelspec": {
   "display_name": "Python 3 (ipykernel)",
   "language": "python",
   "name": "python3"
  },
  "language_info": {
   "codemirror_mode": {
    "name": "ipython",
    "version": 3
   },
   "file_extension": ".py",
   "mimetype": "text/x-python",
   "name": "python",
   "nbconvert_exporter": "python",
   "pygments_lexer": "ipython3",
   "version": "3.11.3"
  }
 },
 "nbformat": 4,
 "nbformat_minor": 5
}
