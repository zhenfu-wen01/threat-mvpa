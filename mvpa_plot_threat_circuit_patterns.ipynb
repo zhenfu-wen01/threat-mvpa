{
 "cells": [
  {
   "cell_type": "code",
   "execution_count": 17,
   "id": "b3684ff6-2924-48c5-8912-1f90caff3a46",
   "metadata": {
    "tags": []
   },
   "outputs": [],
   "source": [
    "import numpy as np\n",
    "import pandas as pd\n",
    "import os\n",
    "import mvpa_base_functions as bf\n",
    "import pickle\n",
    "from scipy import stats\n",
    "\n",
    "import matplotlib.pyplot as plt\n",
    "import matplotlib\n",
    "matplotlib.rcParams['pdf.fonttype'] = 42\n",
    "matplotlib.rcParams['ps.fonttype'] = 42\n",
    "plt.rcParams[\"font.family\"] = \"Arial\"\n",
    "\n",
    "%matplotlib inline"
   ]
  },
  {
   "cell_type": "code",
   "execution_count": 18,
   "id": "a28c1283-bc29-4f03-b6ff-b6b29c8b1da3",
   "metadata": {
    "tags": []
   },
   "outputs": [],
   "source": [
    "from nilearn.input_data import NiftiLabelsMasker, NiftiMapsMasker, NiftiMasker\n",
    "from nilearn.image import concat_imgs, load_img\n",
    "import nibabel as nib\n",
    "\n",
    "brain_file = './masks/whole_brain_mask_Sch7net400_subcortex_cerebellum_MNI152NLin2009cAsym_res-2space.nii.gz'\n",
    "bimg = load_img(brain_file)\n",
    "bdata = bimg.get_fdata().copy()\n",
    "bdata[bdata>0] = 1\n",
    "brain_img = nib.Nifti1Image(bdata, bimg.affine)\n",
    "\n",
    "masker = NiftiMasker(brain_img, standardize=False)\n",
    "val = masker.fit_transform(brain_file)\n",
    "\n",
    "fearnet_file = './masks/fearNet_10regions_MNI152NLin2009cAsym_res-2_space.nii.gz'\n",
    "fear_img = load_img(fearnet_file)\n",
    "\n",
    "\n",
    "masker = NiftiMasker(brain_img, standardize=False)\n",
    "voxel_reg_ids = masker.fit_transform(fear_img).reshape(-1)\n",
    "fearnet_index = voxel_reg_ids != 0"
   ]
  },
  {
   "cell_type": "code",
   "execution_count": 19,
   "id": "a228d896-6885-4d91-b545-a5730582f158",
   "metadata": {
    "tags": []
   },
   "outputs": [],
   "source": [
    "D = pickle.load(open('./results/threat_circuit_predictive_patterns.pkl', 'rb'))\n",
    "all_pred_patterns = D['all_pred_patterns']\n",
    "\n",
    "itrl = 0 # select trial-block\n",
    "coef_vals = all_pred_patterns[itrl].copy()\n",
    "coef_vals = stats.zscore(coef_vals, axis=-1)\n",
    "# coef_vals = np.nanmean(coef_vals, axis=0, keepdims=True)\n",
    "\n",
    "\n",
    "\n",
    "vals = np.zeros((len(fearnet_index),))\n",
    "vals[fearnet_index] = coef_vals.reshape((-1,))\n",
    "img = masker.inverse_transform(vals)"
   ]
  },
  {
   "cell_type": "code",
   "execution_count": 21,
   "id": "167bed23-c848-45f1-8572-eb50b75541f9",
   "metadata": {
    "tags": []
   },
   "outputs": [
    {
     "name": "stderr",
     "output_type": "stream",
     "text": [
      "/tmp/ipykernel_197928/1567303704.py:1: DeprecationWarning: Please use `rotate` from the `scipy.ndimage` namespace, the `scipy.ndimage.interpolation` namespace is deprecated.\n",
      "  from scipy.ndimage.interpolation import rotate\n"
     ]
    }
   ],
   "source": [
    "from scipy.ndimage.interpolation import rotate\n",
    "import scipy\n",
    "from nilearn import image\n",
    "\n",
    "vmin = -3\n",
    "vmax = 3\n",
    "fig_size = (5,5)"
   ]
  },
  {
   "cell_type": "code",
   "execution_count": 22,
   "id": "b720b762-0f9d-493e-9bf0-16691c14e001",
   "metadata": {
    "tags": []
   },
   "outputs": [
    {
     "name": "stdout",
     "output_type": "stream",
     "text": [
      "(37.25, 66.25, 32.25)\n"
     ]
    },
    {
     "name": "stderr",
     "output_type": "stream",
     "text": [
      "/tmp/ipykernel_197928/1482389776.py:16: DeprecationWarning: Please use `gaussian_filter` from the `scipy.ndimage` namespace, the `scipy.ndimage.filters` namespace is deprecated.\n",
      "  r = scipy.ndimage.filters.gaussian_filter(r, 1, mode='constant')\n",
      "/tmp/ipykernel_197928/1482389776.py:25: DeprecationWarning: Please use `gaussian_filter` from the `scipy.ndimage` namespace, the `scipy.ndimage.filters` namespace is deprecated.\n",
      "  r1 = scipy.ndimage.filters.gaussian_filter(r1, 1, mode='constant')\n"
     ]
    },
    {
     "data": {
      "text/plain": [
       "(-0.5, 11.5, 14.5, -0.5)"
      ]
     },
     "execution_count": 22,
     "metadata": {},
     "output_type": "execute_result"
    },
    {
     "data": {
      "image/png": "[encoded data removed]",
      "text/plain": [
       "<Figure size 500x500 with 1 Axes>"
      ]
     },
     "metadata": {},
     "output_type": "display_data"
    }
   ],
   "source": [
    "# amygdala slice\n",
    "amyg_slice = [-22,0,-14]\n",
    "coord = image.coord_transform(amyg_slice[0], amyg_slice[1], amyg_slice[2], np.linalg.inv(img.affine))\n",
    "\n",
    "print(coord)\n",
    "\n",
    "d = img.get_fdata()[:,65][30:42][:,20:35].copy()\n",
    "d = np.rot90(d)\n",
    "\n",
    "\n",
    "r = fear_img.get_fdata()[:,65][30:42][:,20:35].copy()\n",
    "r = np.rot90(r)\n",
    "r[d==0] = 0\n",
    "r[r!=1] = 0\n",
    "r[r!=0] = 1\n",
    "r = scipy.ndimage.filters.gaussian_filter(r, 1, mode='constant')\n",
    "\n",
    "\n",
    "\n",
    "r1 = fear_img.get_fdata()[:,65][30:42][:,20:35].copy()\n",
    "r1 = np.rot90(r1)\n",
    "r1[d==0] = 0\n",
    "r1[r1!=2] = 0\n",
    "r1[r1!=0] = 1\n",
    "r1 = scipy.ndimage.filters.gaussian_filter(r1, 1, mode='constant')\n",
    "\n",
    "fig, ax = plt.subplots()\n",
    "fig.set_size_inches(fig_size)\n",
    "ax.imshow(r)\n",
    "ax.contour(r, levels=[0.5], colors='k')\n",
    "ax.contour(r1, levels=[0.5], colors='k')\n",
    "ax.imshow(d, cmap='seismic', vmax=vmax, vmin=vmin)\n",
    "\n",
    "plt.axis(\"off\")"
   ]
  },
  {
   "cell_type": "code",
   "execution_count": 23,
   "id": "9105489a-6e11-42b1-bdb5-aeedfa0af97f",
   "metadata": {},
   "outputs": [
    {
     "name": "stdout",
     "output_type": "stream",
     "text": [
      "(30.25, 66.25, 39.25)\n"
     ]
    },
    {
     "name": "stderr",
     "output_type": "stream",
     "text": [
      "/tmp/ipykernel_197928/2772486629.py:14: DeprecationWarning: Please use `gaussian_filter` from the `scipy.ndimage` namespace, the `scipy.ndimage.filters` namespace is deprecated.\n",
      "  r = scipy.ndimage.filters.gaussian_filter(r, 1, mode='constant')\n",
      "/tmp/ipykernel_197928/2772486629.py:23: DeprecationWarning: Please use `gaussian_filter` from the `scipy.ndimage` namespace, the `scipy.ndimage.filters` namespace is deprecated.\n",
      "  r1 = scipy.ndimage.filters.gaussian_filter(r1, 1, mode='constant')\n",
      "/tmp/ipykernel_197928/2772486629.py:30: DeprecationWarning: Please use `gaussian_filter` from the `scipy.ndimage` namespace, the `scipy.ndimage.filters` namespace is deprecated.\n",
      "  r2 = scipy.ndimage.filters.gaussian_filter(r2, 1, mode='constant')\n"
     ]
    },
    {
     "data": {
      "text/plain": [
       "(-0.5, 23.5, 19.5, -0.5)"
      ]
     },
     "execution_count": 23,
     "metadata": {},
     "output_type": "execute_result"
    },
    {
     "data": {
      "image/png": "[encoded data removed]",
      "text/plain": [
       "<Figure size 500x500 with 1 Axes>"
      ]
     },
     "metadata": {},
     "output_type": "display_data"
    }
   ],
   "source": [
    "# insular cortex slice\n",
    "ins_slice = [-36,0,0]\n",
    "coord = image.coord_transform(ins_slice[0], ins_slice[1], ins_slice[2], np.linalg.inv(img.affine))\n",
    "print(coord)\n",
    "\n",
    "d = img.get_fdata()[29][56:80][:,30:50].copy()\n",
    "d = np.rot90(d)\n",
    "\n",
    "r = fear_img.get_fdata()[29][56:80][:,30:50].copy()\n",
    "r = np.rot90(r)\n",
    "r[d==0] = 0\n",
    "r[r!=5] = 0\n",
    "r[r!=0] = 1\n",
    "r = scipy.ndimage.filters.gaussian_filter(r, 1, mode='constant')\n",
    "\n",
    "\n",
    "\n",
    "r1 = fear_img.get_fdata()[29][56:80][:,30:50].copy()\n",
    "r1 = np.rot90(r1)\n",
    "r1[d==0] = 0\n",
    "r1[r1!=6] = 0\n",
    "r1[r1!=0] = 1\n",
    "r1 = scipy.ndimage.filters.gaussian_filter(r1, 1, mode='constant')\n",
    "\n",
    "r2 = fear_img.get_fdata()[29][56:80][:,30:50].copy()\n",
    "r2 = np.rot90(r2)\n",
    "r2[d==0] = 0\n",
    "r2[r2!=7] = 0\n",
    "r2[r2!=0] = 1\n",
    "r2 = scipy.ndimage.filters.gaussian_filter(r2, 1, mode='constant')\n",
    "\n",
    "fig, ax = plt.subplots()\n",
    "fig.set_size_inches(fig_size)\n",
    "ax.contour(r, levels=[0.5], colors='k')\n",
    "ax.contour(r1, levels=[0.5], colors='k')\n",
    "ax.contour(r2, levels=[0.5], colors='k')\n",
    "ax.imshow(d, cmap='seismic', vmax=vmax, vmin=vmin)\n",
    "\n",
    "plt.axis(\"off\")"
   ]
  },
  {
   "cell_type": "code",
   "execution_count": 24,
   "id": "5aa0928e-ffc4-418d-9c58-ded8dee3ce0a",
   "metadata": {},
   "outputs": [
    {
     "name": "stderr",
     "output_type": "stream",
     "text": [
      "/tmp/ipykernel_197928/2680145994.py:27: DeprecationWarning: Please use `gaussian_filter` from the `scipy.ndimage` namespace, the `scipy.ndimage.filters` namespace is deprecated.\n",
      "  r = scipy.ndimage.filters.gaussian_filter(r, 1, mode='constant')\n",
      "/tmp/ipykernel_197928/2680145994.py:36: DeprecationWarning: Please use `gaussian_filter` from the `scipy.ndimage` namespace, the `scipy.ndimage.filters` namespace is deprecated.\n",
      "  r1 = scipy.ndimage.filters.gaussian_filter(r1, 1, mode='constant')\n"
     ]
    },
    {
     "data": {
      "text/plain": [
       "(-0.5, 25.5, 19.5, -0.5)"
      ]
     },
     "execution_count": 24,
     "metadata": {},
     "output_type": "execute_result"
    },
    {
     "data": {
      "image/png": "[encoded data removed]",
      "text/plain": [
       "<Figure size 500x500 with 1 Axes>"
      ]
     },
     "metadata": {},
     "output_type": "display_data"
    }
   ],
   "source": [
    "# hippocampus slice\n",
    "# remove amygdala\n",
    "tfimg = load_img(fearnet_file)\n",
    "tfdata = tfimg.get_fdata().copy()\n",
    "tidx = np.logical_and(tfdata!=4, tfdata!=3)\n",
    "tfdata[tidx] = 0\n",
    "tfdata[tfdata>0] = 1\n",
    "tfear_img = nib.Nifti1Image(tfdata, tfimg.affine)\n",
    "tmasker = NiftiMasker(tfear_img, standardize=False)\n",
    "tv = tmasker.fit_transform(tfear_img).reshape(-1)\n",
    "\n",
    "val = tmasker.transform(img)\n",
    "timg = tmasker.inverse_transform(val)\n",
    "\n",
    "hippo_slice = [-24,-8,-18]\n",
    "image.coord_transform(hippo_slice[0], hippo_slice[1], hippo_slice[2], np.linalg.inv(img.affine))\n",
    "\n",
    "\n",
    "d = timg.get_fdata()[35][42:68][:,22:42].copy()\n",
    "d = np.rot90(d[...,0])\n",
    "\n",
    "r = fear_img.get_fdata()[35][42:68][:,22:42].copy()\n",
    "r = np.rot90(r)\n",
    "r[d==0] = 0\n",
    "r[r!=3] = 0\n",
    "r[r!=0] = 1\n",
    "r = scipy.ndimage.filters.gaussian_filter(r, 1, mode='constant')\n",
    "\n",
    "\n",
    "\n",
    "r1 = fear_img.get_fdata()[35][42:68][:,22:42].copy()\n",
    "r1 = np.rot90(r1)\n",
    "r1[d==0] = 0\n",
    "r1[r1!=4] = 0\n",
    "r1[r1!=0] = 1\n",
    "r1 = scipy.ndimage.filters.gaussian_filter(r1, 1, mode='constant')\n",
    "\n",
    "fig, ax = plt.subplots()\n",
    "fig.set_size_inches(fig_size)\n",
    "ax.contour(r, levels=[0.5], colors='k')\n",
    "ax.contour(r1, levels=[0.5], colors='k')\n",
    "ax.imshow(d, cmap='seismic', vmax=vmax, vmin=vmin)\n",
    "plt.axis(\"off\")\n"
   ]
  },
  {
   "cell_type": "code",
   "execution_count": 25,
   "id": "d9ff46bd-5708-469f-829c-3acd27514995",
   "metadata": {
    "tags": []
   },
   "outputs": [
    {
     "name": "stdout",
     "output_type": "stream",
     "text": [
      "(47.25, 78.25, 34.25)\n"
     ]
    },
    {
     "name": "stderr",
     "output_type": "stream",
     "text": [
      "/tmp/ipykernel_197928/2019563354.py:14: DeprecationWarning: Please use `gaussian_filter` from the `scipy.ndimage` namespace, the `scipy.ndimage.filters` namespace is deprecated.\n",
      "  r = scipy.ndimage.filters.gaussian_filter(r, 1, mode='constant')\n",
      "/tmp/ipykernel_197928/2019563354.py:23: DeprecationWarning: Please use `gaussian_filter` from the `scipy.ndimage` namespace, the `scipy.ndimage.filters` namespace is deprecated.\n",
      "  r1 = scipy.ndimage.filters.gaussian_filter(r1, 1, mode='constant')\n",
      "/tmp/ipykernel_197928/2019563354.py:30: DeprecationWarning: Please use `gaussian_filter` from the `scipy.ndimage` namespace, the `scipy.ndimage.filters` namespace is deprecated.\n",
      "  r2 = scipy.ndimage.filters.gaussian_filter(r2, 1, mode='constant')\n"
     ]
    },
    {
     "data": {
      "text/plain": [
       "(-0.5, 34.5, 34.5, -0.5)"
      ]
     },
     "execution_count": 25,
     "metadata": {},
     "output_type": "execute_result"
    },
    {
     "data": {
      "image/png": "[encoded data removed]",
      "text/plain": [
       "<Figure size 500x500 with 1 Axes>"
      ]
     },
     "metadata": {},
     "output_type": "display_data"
    }
   ],
   "source": [
    "# prefontal cortex slice\n",
    "pf_slice = [-2, 24, -10]\n",
    "coord = image.coord_transform(pf_slice[0], pf_slice[1], pf_slice[2], np.linalg.inv(img.affine))\n",
    "print(coord)\n",
    "\n",
    "d = img.get_fdata()[47][65:100][:,25:60].copy()\n",
    "d = np.rot90(d)\n",
    "\n",
    "r = fear_img.get_fdata()[47][65:100][:,25:60].copy()\n",
    "r = np.rot90(r)\n",
    "r[d==0] = 0\n",
    "r[r!=8] = 0\n",
    "r[r!=0] = 1\n",
    "r = scipy.ndimage.filters.gaussian_filter(r, 1, mode='constant')\n",
    "\n",
    "\n",
    "\n",
    "r1 = fear_img.get_fdata()[47][65:100][:,25:60].copy()\n",
    "r1 = np.rot90(r1)\n",
    "r1[d==0] = 0\n",
    "r1[r1!=9] = 0\n",
    "r1[r1!=0] = 1\n",
    "r1 = scipy.ndimage.filters.gaussian_filter(r1, 1, mode='constant')\n",
    "\n",
    "r2 = fear_img.get_fdata()[47][65:100][:,25:60].copy()\n",
    "r2 = np.rot90(r2)\n",
    "r2[d==0] = 0\n",
    "r2[r2!=10] = 0\n",
    "r2[r2!=0] = 1\n",
    "r2 = scipy.ndimage.filters.gaussian_filter(r2, 1, mode='constant')\n",
    "\n",
    "fig, ax = plt.subplots()\n",
    "fig.set_size_inches(fig_size)\n",
    "ax.contour(r, levels=[0.5], colors='k')\n",
    "ax.contour(r1, levels=[0.5], colors='k')\n",
    "ax.contour(r2, levels=[0.5], colors='k')\n",
    "ax.imshow(d, cmap='seismic', vmax=vmax, vmin=vmin)\n",
    "\n",
    "plt.axis(\"off\")"
   ]
  }
 ],
 "metadata": {
  "kernelspec": {
   "display_name": "Python 3 (ipykernel)",
   "language": "python",
   "name": "python3"
  },
  "language_info": {
   "codemirror_mode": {
    "name": "ipython",
    "version": 3
   },
   "file_extension": ".py",
   "mimetype": "text/x-python",
   "name": "python",
   "nbconvert_exporter": "python",
   "pygments_lexer": "ipython3",
   "version": "3.11.3"
  }
 },
 "nbformat": 4,
 "nbformat_minor": 5
}
